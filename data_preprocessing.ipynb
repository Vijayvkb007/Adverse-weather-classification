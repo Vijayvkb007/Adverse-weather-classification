{
 "cells": [
  {
   "cell_type": "markdown",
   "metadata": {},
   "source": [
    "# SYSTEM OF INTEREST (SOI) \n",
    "<ol><li>DATA PREPARATION</li>\n",
    "<li>LEARNING MODEL</li>\n",
    "<li>EVALUATION AND DEPLOYMENT</li></ol>"
   ]
  },
  {
   "cell_type": "markdown",
   "metadata": {},
   "source": [
    "## DATA PREPARATION SUBSYSTEM"
   ]
  },
  {
   "cell_type": "markdown",
   "metadata": {},
   "source": [
    "<h3><em>Data preparation used in the base paper is mentioned below:</em></h3>\n",
    "<ul><li><p>combined two main and common weather conditions datasets, DAWM2020 dataset and MCWCD2018,<br> to end up with a dataset composed of image samples that are grouped into six classes for weather conditions:<br> cloudy , rainy , snowy , sandy , shine , and sunrise </p></li>\n",
    "<li><p>Image datasets are collected, combined, and labeled into six class labels by means of six folders, each of which holds the name of one weather class</p></li>\n",
    "<li><p>Initially, the image-type of all images is unified to JPG image extension, and then the image-resize operation is applied <br> over all JPG images\n",
    "in which the sizes of all images are converted to 3D matrices (RGB images) with image\n",
    "dimensions of 224 ×224 ×3.</p></li>\n",
    "<li><p>applying randomized augmentation operations on the dataset. The augmentation process configures <br>a set of preprocessing\n",
    "options such as resizing, cropping, rotation, reflection, invariant distortions, and others.</p></li>\n",
    "<li><p>images are shuffled randomly.</p></li></ul>"
   ]
  },
  {
   "cell_type": "markdown",
   "metadata": {},
   "source": [
    "<h3><em>Extra techniques used:</em></h3>\n",
    "<ul><li><p>Categorical labels are converted into numerical format for better compatibality for ML and DL algos.</p></li>\n",
    "<li><p>Normalization to ensure the data distribution is well-suited for the model's initial weights and activations and helps to converge fast.</p></li>\n",
    "<li><p>Data balancing, as the dataset is imbalanced.</p></li><ul>"
   ]
  },
  {
   "cell_type": "markdown",
   "metadata": {},
   "source": [
    "<h3><em>Dataset condition</em></h3>\n",
    "<p>\n",
    "    We have 2 Dataset hence 2 folders, Dataset1 is already categorized into folders,<br>Dataset2 has following image category:\n",
    "    <ol>\n",
    "    <li>cloudy</li>\n",
    "    <li>rain</li>\n",
    "    <li>shine</li>\n",
    "    <li>sunrise</li>\n",
    "    </ol>\n",
    "    which should be categorized into different folders\n",
    "</p>\n"
   ]
  },
  {
   "cell_type": "code",
   "execution_count": 96,
   "metadata": {},
   "outputs": [],
   "source": [
    "import matplotlib.pyplot as plt\n",
    "import numpy as np\n",
    "import shutil\n",
    "import os\n",
    "import cv2"
   ]
  },
  {
   "cell_type": "markdown",
   "metadata": {},
   "source": [
    "##### Run combine_data.py to combine and categorize the dataset"
   ]
  },
  {
   "cell_type": "markdown",
   "metadata": {},
   "source": [
    "Run this program to combine left over rain folders\n",
    "```python\n",
    "rain = [\"./datasets/rain\", \"./datasets/Rain\"]\n",
    "npath = \"./datasets/rainy\"\n",
    "\n",
    "os.makedirs(npath, exist_ok=True)\n",
    "for files in os.listdir(rain[0]):\n",
    "    shutil.move(os.path.join(rain[0], files), os.path.join(npath, files))\n",
    "\n",
    "for files in os.listdir(rain[1]):\n",
    "    shutil.move(os.path.join(rain[1], files), os.path.join(npath, files))\n",
    "\n",
    "os.rmdir(rain[0])\n",
    "os.rmdir(rain[1])\n",
    "```"
   ]
  },
  {
   "cell_type": "code",
   "execution_count": null,
   "metadata": {},
   "outputs": [],
   "source": []
  }
 ],
 "metadata": {
  "kernelspec": {
   "display_name": "Python 3",
   "language": "python",
   "name": "python3"
  },
  "language_info": {
   "codemirror_mode": {
    "name": "ipython",
    "version": 3
   },
   "file_extension": ".py",
   "mimetype": "text/x-python",
   "name": "python",
   "nbconvert_exporter": "python",
   "pygments_lexer": "ipython3",
   "version": "3.10.12"
  }
 },
 "nbformat": 4,
 "nbformat_minor": 2
}
